{
 "cells": [
  {
   "cell_type": "markdown",
   "id": "36eeecfc",
   "metadata": {},
   "source": [
    "Dentro del proyecto, crear una carpeta llamada data y un archivo bancos.csv con las columnas: Num_Cta, Cli_codigo, TipoCuenta, Sucursal, FechaApertura, Saldo\n",
    "from pathlib import Path\n"
   ]
  },
  {
   "cell_type": "code",
   "execution_count": 2,
   "id": "2fabd282",
   "metadata": {},
   "outputs": [
    {
     "name": "stdout",
     "output_type": "stream",
     "text": [
      "Archivo 'base.csv' creado correctamente.\n"
     ]
    }
   ],
   "source": [
    "from pathlib import Path\n",
    "\n",
    "# Crear carpeta data\n",
    "data_path = Path.cwd() / \"../data\"\n",
    "data_path.mkdir(parents=True, exist_ok=True)\n",
    "\n",
    "# Crear archivo CSV base\n",
    "archivo_csv = data_path / \"base.csv\"\n",
    "if not archivo_csv.exists():\n",
    "    with open(archivo_csv, \"w\", encoding=\"utf-8\") as f:\n",
    "        f.write(\"Num_Cta,Cli_Codigo,TipoCuenta,Sucursal,FechaApertura,Saldo\\n\")\n",
    "    print(\"Archivo 'base.csv' creado correctamente.\")\n",
    "else:\n",
    "    print(\"El archivo 'base.csv' ya existe.\")\n"
   ]
  }
 ],
 "metadata": {
  "kernelspec": {
   "display_name": "myenv",
   "language": "python",
   "name": "python3"
  },
  "language_info": {
   "codemirror_mode": {
    "name": "ipython",
    "version": 3
   },
   "file_extension": ".py",
   "mimetype": "text/x-python",
   "name": "python",
   "nbconvert_exporter": "python",
   "pygments_lexer": "ipython3",
   "version": "3.11.0"
  }
 },
 "nbformat": 4,
 "nbformat_minor": 5
}
