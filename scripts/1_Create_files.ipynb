{
 "cells": [
  {
   "cell_type": "markdown",
   "id": "f2860cfb",
   "metadata": {},
   "source": [
    "# 🧰 Librerías necesarias\n",
    "Para crear carpetas o directorios directamente desde Python, no necesitas instalar nada adicional.\n",
    "Usarás librerías nativas del sistema operativo:\n",
    "•\tos → para manejar rutas, crear carpetas, listar archivos, etc.\n",
    "•\tpathlib → más moderna, limpia y recomendada para proyectos nuevos (parte de la librería estándar también).\n"
   ]
  },
  {
   "cell_type": "markdown",
   "id": "768a2abf",
   "metadata": {},
   "source": [
    "## 🧩 Crear carpeta “data” automáticamente"
   ]
  },
  {
   "cell_type": "code",
   "execution_count": 2,
   "id": "53c533d4",
   "metadata": {},
   "outputs": [
    {
     "name": "stdout",
     "output_type": "stream",
     "text": [
      "La carpeta 'data' ya existe.\n"
     ]
    }
   ],
   "source": [
    "#✅ Opción 1: usando os\n",
    "import os\n",
    "\n",
    "# Ruta de la carpeta \"data\" dentro del proyecto actual\n",
    "ruta_carpeta = os.path.join(os.getcwd(), \"../data\")\n",
    "\n",
    "# Crear carpeta si no existe\n",
    "if not os.path.exists(ruta_carpeta):\n",
    "    os.makedirs(ruta_carpeta)\n",
    "    print(f\"Carpeta creada en: {ruta_carpeta}\")\n",
    "else:\n",
    "    print(\"La carpeta 'data' ya existe.\")\n"
   ]
  },
  {
   "cell_type": "code",
   "execution_count": 3,
   "id": "92321453",
   "metadata": {},
   "outputs": [
    {
     "name": "stdout",
     "output_type": "stream",
     "text": [
      "Carpeta creada en: c:\\Users\\user\\Documents\\BancoDigital_2025A\\scripts\\..\\database\n"
     ]
    }
   ],
   "source": [
    "#✅ Opción 2: usando pathlib (más moderno y elegante)\n",
    "from pathlib import Path\n",
    "\n",
    "# Definir la ruta de la carpeta \"data\"\n",
    "ruta_carpeta = Path.cwd() / \"../database\"\n",
    "\n",
    "# Crear la carpeta si no existe\n",
    "ruta_carpeta.mkdir(parents=True, exist_ok=True)\n",
    "\n",
    "print(f\"Carpeta creada en: {ruta_carpeta}\")\n"
   ]
  },
  {
   "cell_type": "markdown",
   "id": "5747d24b",
   "metadata": {},
   "source": [
    "## 💡 Crear otras carpetas en la misma ejecución"
   ]
  },
  {
   "cell_type": "code",
   "execution_count": 4,
   "id": "a1526b83",
   "metadata": {},
   "outputs": [
    {
     "name": "stdout",
     "output_type": "stream",
     "text": [
      "✅ Carpeta 'data' lista en c:\\Users\\user\\Documents\\BancoDigital_2025A\\scripts\\..\\data\n",
      "✅ Carpeta 'database' lista en c:\\Users\\user\\Documents\\BancoDigital_2025A\\scripts\\..\\database\n",
      "✅ Carpeta 'scripts' lista en c:\\Users\\user\\Documents\\BancoDigital_2025A\\scripts\\..\\scripts\n",
      "✅ Carpeta 'docs' lista en c:\\Users\\user\\Documents\\BancoDigital_2025A\\scripts\\..\\docs\n"
     ]
    }
   ],
   "source": [
    "from pathlib import Path\n",
    "\n",
    "# Rutas de carpetas del proyecto\n",
    "carpetas = [\"data\", \"database\", \"scripts\", \"docs\"]\n",
    "\n",
    "for carpeta in carpetas:\n",
    "    ruta = Path.cwd() / f\"../{carpeta}\"\n",
    "    ruta.mkdir(parents=True, exist_ok=True)\n",
    "    print(f\"✅ Carpeta '{carpeta}' lista en {ruta}\")\n"
   ]
  }
 ],
 "metadata": {
  "kernelspec": {
   "display_name": "myenv",
   "language": "python",
   "name": "python3"
  },
  "language_info": {
   "codemirror_mode": {
    "name": "ipython",
    "version": 3
   },
   "file_extension": ".py",
   "mimetype": "text/x-python",
   "name": "python",
   "nbconvert_exporter": "python",
   "pygments_lexer": "ipython3",
   "version": "3.11.0"
  }
 },
 "nbformat": 4,
 "nbformat_minor": 5
}
