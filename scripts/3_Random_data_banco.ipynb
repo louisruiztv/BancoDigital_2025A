{
 "cells": [
  {
   "cell_type": "code",
   "execution_count": 1,
   "id": "1e5367c9",
   "metadata": {},
   "outputs": [
    {
     "name": "stdout",
     "output_type": "stream",
     "text": [
      "✅ Archivo generado correctamente en: c:\\Users\\user\\Documents\\BancoDigital_2025A\\scripts\\..\\data\\bancos.csv\n",
      "📊 Total de registros: 1000\n"
     ]
    }
   ],
   "source": [
    "from pathlib import Path\n",
    "import csv\n",
    "import random\n",
    "from datetime import datetime, timedelta\n",
    "\n",
    "# 1️⃣ Crear carpeta \"data\" si no existe\n",
    "data_path = Path.cwd() / \"../data\"\n",
    "data_path.mkdir(parents=True, exist_ok=True)\n",
    "\n",
    "# 2️⃣ Definir archivo CSV\n",
    "csv_file = data_path / \"bancos.csv\"\n",
    "\n",
    "# 3️⃣ Listas base de datos simulados\n",
    "tipos_cuenta = [\"CTA AHORROS SOLES\", \"CTA AHORROS DOLARES\", \"CTA CORRIENTE\", \"NA\"]\n",
    "sucursales = [\"San Isidro\", \"Miraflores\", \"Surco\", \"La Molina\", \"Lince\", \"Callao\", \"Cajamarca\"]\n",
    "\n",
    "# 4️⃣ Generar datos aleatorios\n",
    "def generar_fecha():\n",
    "    \"\"\"Genera una fecha aleatoria entre 2010 y 2025\"\"\"\n",
    "    inicio = datetime(2010, 1, 1)\n",
    "    fin = datetime(2025, 1, 1)\n",
    "    delta = fin - inicio\n",
    "    fecha_random = inicio + timedelta(days=random.randint(0, delta.days))\n",
    "    return fecha_random.strftime(\"%d/%m/%Y\")\n",
    "\n",
    "# 5️⃣ Crear 30 registros simulados\n",
    "registros = []\n",
    "for i in range(1, 1001):\n",
    "    num_cta = f\"191-{10000 + i}-{random.randint(10,99)}\"\n",
    "    cli_codigo = f\"C{str(i).zfill(4)}\"\n",
    "    tipo_cuenta = random.choice(tipos_cuenta)\n",
    "    sucursal = random.choice(sucursales)\n",
    "    fecha_apertura = generar_fecha()\n",
    "    saldo = round(random.uniform(500, 15000), 2)\n",
    "    registros.append([num_cta, cli_codigo, tipo_cuenta, sucursal, fecha_apertura, saldo])\n",
    "\n",
    "# 6️⃣ Escribir en el archivo CSV\n",
    "with open(csv_file, mode=\"w\", newline=\"\", encoding=\"utf-8\") as file:\n",
    "    writer = csv.writer(file)\n",
    "    writer.writerow([\"Num_Cta\", \"Cli_codigo\", \"TipoCuenta\", \"Sucursal\", \"FechaApertura\", \"Saldo\"])\n",
    "    writer.writerows(registros)\n",
    "\n",
    "print(f\"✅ Archivo generado correctamente en: {csv_file}\")\n",
    "print(f\"📊 Total de registros: {len(registros)}\")\n"
   ]
  }
 ],
 "metadata": {
  "kernelspec": {
   "display_name": "myenv",
   "language": "python",
   "name": "python3"
  },
  "language_info": {
   "codemirror_mode": {
    "name": "ipython",
    "version": 3
   },
   "file_extension": ".py",
   "mimetype": "text/x-python",
   "name": "python",
   "nbconvert_exporter": "python",
   "pygments_lexer": "ipython3",
   "version": "3.11.0"
  }
 },
 "nbformat": 4,
 "nbformat_minor": 5
}
