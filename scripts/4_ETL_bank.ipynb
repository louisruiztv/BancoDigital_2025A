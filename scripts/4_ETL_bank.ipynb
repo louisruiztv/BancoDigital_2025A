{
 "cells": [
  {
   "cell_type": "code",
   "execution_count": 1,
   "id": "3b8dcf46",
   "metadata": {},
   "outputs": [
    {
     "name": "stdout",
     "output_type": "stream",
     "text": [
      "🔍 Valores nulos antes de la limpieza:\n",
      "Num_Cta            0\n",
      "Cli_codigo         0\n",
      "TipoCuenta       246\n",
      "Sucursal           0\n",
      "FechaApertura      0\n",
      "Saldo              0\n",
      "dtype: int64\n",
      "\n",
      "✅ Después de la limpieza:\n",
      "Num_Cta          0\n",
      "Cli_codigo       0\n",
      "TipoCuenta       0\n",
      "Sucursal         0\n",
      "FechaApertura    0\n",
      "Saldo            0\n",
      "dtype: int64\n",
      "\n",
      "📁 Archivo limpio guardado en: c:\\Users\\user\\Documents\\BancoDigital_2025A\\scripts\\..\\database\\bancos_clean.csv\n"
     ]
    }
   ],
   "source": [
    "import pandas as pd\n",
    "from pathlib import Path\n",
    "\n",
    "# 1️⃣ Definir rutas\n",
    "data_path = Path.cwd() / \"../data\"\n",
    "database_path = Path.cwd() / \"../database\"\n",
    "database_path.mkdir(parents=True, exist_ok=True)\n",
    "\n",
    "input_file = data_path / \"bancos.csv\"\n",
    "output_file = database_path / \"bancos_clean.csv\"\n",
    "\n",
    "# 2️⃣ Leer el archivo CSV original\n",
    "df = pd.read_csv(input_file)\n",
    "\n",
    "# 3️⃣ Mostrar cantidad de valores nulos antes\n",
    "print(\"🔍 Valores nulos antes de la limpieza:\")\n",
    "print(df.isnull().sum())\n",
    "\n",
    "# 4️⃣ Reemplazar valores nulos en la columna TipoCuenta\n",
    "df[\"TipoCuenta\"] = df[\"TipoCuenta\"].fillna(\"CTA AHORROS SOLES\")\n",
    "\n",
    "# 5️⃣ Eliminar filas completamente vacías o duplicadas (opcional)\n",
    "df.dropna(how=\"all\", inplace=True)\n",
    "df.drop_duplicates(inplace=True)\n",
    "\n",
    "# 6️⃣ Mostrar resumen después de la limpieza\n",
    "print(\"\\n✅ Después de la limpieza:\")\n",
    "print(df.isnull().sum())\n",
    "\n",
    "# 7️⃣ Guardar el nuevo archivo limpio\n",
    "df.to_csv(output_file, index=False, encoding=\"utf-8\")\n",
    "print(f\"\\n📁 Archivo limpio guardado en: {output_file}\")\n"
   ]
  }
 ],
 "metadata": {
  "kernelspec": {
   "display_name": "myenv",
   "language": "python",
   "name": "python3"
  },
  "language_info": {
   "codemirror_mode": {
    "name": "ipython",
    "version": 3
   },
   "file_extension": ".py",
   "mimetype": "text/x-python",
   "name": "python",
   "nbconvert_exporter": "python",
   "pygments_lexer": "ipython3",
   "version": "3.11.0"
  }
 },
 "nbformat": 4,
 "nbformat_minor": 5
}
